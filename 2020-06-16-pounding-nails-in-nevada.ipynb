{
 "cells": [
  {
   "cell_type": "markdown",
   "metadata": {
    "deletable": false
   },
   "source": [
    "# Who Can Tell What Harald Uhlig Said Six Years Ago in Front of 60-Plus Witnesses?\n",
    "\n",
    "Yes, it is John Cochrane blogging once again. Once again, some of the plain people of the internet who wish me ill tell me I need to go and read John Cochrane—presumably to make me ill.\n",
    "\n",
    "&nbsp;\n",
    "\n",
    "## Should Harald Uhlig Be Lead Editor of the _Journal of Political Economy_?\n",
    "\n",
    "And I do. And it does: **John Cochrane** <https://tinyurl.com/2020-06-16-a> on why Harald Uhlig deserves to still be lead editor of the _Journal of Political Economy_:\n",
    "\n",
    ">The _J[ournal of ]P[olitical ]E[conomy]_ advisory board (Robert Shimer, Lars Peter Hansen, Steve Levitt, and Philip J. Reny, all good friends and great economists, so my pain here is deep at having to criticize their action) carefully say nothing about the tweets, media coverage, and protest. They cite instead the accusation of discriminatory conduct in a classroom setting. Now, such conduct is a very serious charge...\n",
    "\n",
    "Which Cochrane then dismisses:\n",
    "\n",
    ">But this account of events does not hold water. Ba, now a professor at U.C. Irvine, was sitting in—not taking for credit—a class in 2014, six years ago. At the University of Chicago, there was always the issue for classes that meet on Mondays, how do you reschedule the class that would normally take place on Martin Luther King day? It was always a mess...\n",
    "\n",
    "One might think that one sucks it up: plans for the fact that there is a holiday.\n",
    "\n",
    "Or one might think that one would make the holiday class up during reading period, if one has failed to plan one's syllabus according to the university calender. \n",
    "\n",
    "And one might think this is not a problem unique to Martin Luther King, Jr. Day: that it applies to Washington & Lincoln's Birthday, Memorial Day, and Thanksgiving as well. \n",
    "\n",
    "But, apparently, that is not what University of Chicago economics professor Harald Uhlig did. **Bocar A. Ba** <https://tinyurl.com/2020-06-16-b>:\n",
    "\n",
    ">@haralduhlig: I sat in your class in Winter 2014:\n",
    "\n",
    ">1. You talked about scheduling a class on MLK Day\n",
    ">2. You made fun of Dr. King and people honoring him\n",
    ">3. You sarcastically asked me in front of everyone whether I was offended\n",
    "\n",
    "**chitownprof** <https://tinyurl.com/2020-06-16-f>: \"I was one of the 60+ fellow PhD students in that course. Everything you say is true. Uhlig had to reschedule a class and suggested the following Monday. A classmate said it was MLK day, to which he looked for you (the only Black student), and asked: 'YOU don't mind, do you?' And, to be clear, at the time MLK was a University of Chicago observed holiday in which classes were cancelled.\"   \n",
    "**Alejandro Hoyos** <https://tinyurl.com/2020-06-16-c>: \"I was in the same class with Bocar and each and every word is true, this happened exactly as he described it.\"   \n",
    "**Jordan Rosenthal-Kay** <https://tinyurl.com/2020-06-16-d>: \"For the record: similar comments were repeated in class this year\"   \n",
    "**Corinne Low** <https://tinyurl.com/2020-06-16-e>: \"Yes, I have heard HU also said the same thing this year, although perhaps without a black student to single out and humiliate. It also gives lie to the idea he's criticizing BLM bc of how much he loves MLK and peaceful protest.\"   \n",
    "**fluffynuffy** <https://tinyurl.com/2020-06-16-g>: \"Uhlig makes weird MLKjr Day 'jokes' every year in his classes apparently. This is probably acceptable yet bad free expression. But calling on black students specifically to ask how they feel about this isn't free expression at all.\"\n",
    "\n",
    "Ah. So it wasn't that Harald Uhlig had failed to plan for MLK Day. It was that he had made an outside commitment during what was supposed to be his lecture time, and wanted to reschedule the class he wanted to miss for MLK Day. The \"mess\" is one created by Uhlig's scheduling outside commitments during class time. Yet somehow Cochrane does not find space to say this.\n",
    "\n",
    "Cochrane continues:\n",
    "\n",
    ">...In that discussion, Harald said something that Ba found offensive—that much is undeniable. What \"fun\" did Harald make of Dr. King? Precise words would help. Clearly in this interaction the tone fo voice—whether Harald's inquiry as to offense was \"sarcastic\" or well-intended—mattered as much as what was actually said. Yes, this merits investigation, to the extent that one can investigate comments made in classes six years ago reported via tweet. \n",
    "\n",
    ">But the JPE, on Friday, was clearly responding to Harald's tweets, not just this accusation, and the JPE's contrary assertion a poor excuse.  There is no way on this green earth that a tweet made on Thursday about a comment made in class six years ago leads to being fired from the JPE on Friday, absent a mob demanding just that head for previous tweets about defunding the police.  An allegation of misbehavior in class would justify suspending Harald from teaching classes, maybe.\n",
    "\n",
    ">I spent much of my last few years of teaching afraid that I would say something that could be misunderstood and thus be offensive to someone.  Many of my colleagues report the same worries. It is not good for open and honest communication in the classroom if a tweet about a comment six years ago can destroy you. \n",
    "\n",
    "Yes, plain people of the internet. You have made me ill. Again. Satisfied?\n",
    "\n",
    "&nbsp;"
   ]
  },
  {
   "cell_type": "markdown",
   "metadata": {
    "deletable": false
   },
   "source": [
    "## Fear of Reporters\n",
    "\n",
    "So to recover my equilibrium, let's talk about John Cochrane's Fear of Reporters. Immediately after the last quote above, he continues:\n",
    "\n",
    ">I also learned the hard way, don't talk to reporters who are out to destroy you, and that  includes anyone from the _New York Times_ or the _New Yorker_. Compare the _Times_ article to the unedited transcript of Uhlig's interview <https://tinyurl.com/2020-06-16-i>. I think Harald just learned another sharp lesson.\n",
    "\n",
    "Here are the paragraphs in the _New York Times_ article from Harald Uhlig's email interview: **Ben Casselman** & **Tim Tankersley** <https://tinyurl.com/2020-06-16-h>:\n",
    "\n",
    ">[Uhlig] said in an email interview on Tuesday night that his “flat earther” comparison “appears to have caused irritation” but disagreed with critics who say his comments “hurt and marginalize people of color and their allies in the economics profession; call into question his impartiality in assessing academic work on this and related topics; and damage the standing of the economics discipline in society.” The reference to the Klan, he said, was a case where “I chose an extreme example” to make a point about free speech.\n",
    "\n",
    ">“Discrimination and racism is wrong,” Mr. Uhlig wrote in an email. Later, he added: “I would love to have more black economists (or is it ‘Afro-American economists’?) among our undergraduate students, Ph.D. students and faculty. It is my impression that the good ones are highly sought after. We also have very few American Indians among our colleagues. We need to find good way to change these numbers.”\n",
    "\n",
    "I genuinely did not see why Cochrane thinks Uhlig has a beef here.\n",
    "\n",
    "&nbsp;\n",
    "\n",
    "## \"We Should Have a Recession... Pounding Nails in Nevada...\"\n",
    "\n",
    "But then I remembered the moment when I first concluded that John Cochrane had gone bats--t—that he has simply completely lost it. It was on December 23, 2008, when I read a Bloomberg News article by **John Lippert** <https://tinyurl.com/2020-06-16-j>: \n",
    "\n",
    ">John Cochrane was steaming as word of U.S. Treasury Secretary Henry Paulson’s plan to buy 700 billion in troubled mortgage assets rippled across the University of Chicago in September.... During a lunch held on a balcony with a view of Rockefeller Memorial Chapel, Cochrane, son-in-law of Chicago efficient-market theorist Eugene Fama, and some colleagues made their stand. They wrote a petition... collected 230 signatures. Republican Senator Richard Shelby of Alabama waved the document as he scorned the rescue. When Congress rejected it on Sept. 29, Cochrane fired off congratulatory e-mails. The victory was short-lived. Lawmakers approved the plan four days later, swayed by what Cochrane calls a pinata of pork-barrel amendments. “We should have a recession,” Cochrane said in November, speaking to students and investors in a conference room that looks out on Lake Michigan. “People who spend their lives pounding nails in Nevada need something else to do.”\n",
    "\n",
    "Now we need to look at some data. So we need to start by initializing our environment:"
   ]
  },
  {
   "cell_type": "code",
   "execution_count": 1,
   "metadata": {},
   "outputs": [],
   "source": [
    "%matplotlib inline\n",
    "\n",
    "# ensure graphs show up inside rather than\n",
    "# outside the notebook\n",
    "\n",
    "# initialize libraries\n",
    "\n",
    "import numpy as np\n",
    "import pandas as pd\n",
    "import matplotlib.pyplot as plt\n",
    "import matplotlib as mpl"
   ]
  },
  {
   "cell_type": "markdown",
   "metadata": {},
   "source": [
    "Now we can grab the time series for the share of nonfarm workers in America in residential building—the people \"pounding nails\". Let us look at this share each year from 2000 to 2012 in October, before cold weather in the north has started to shut down construction:"
   ]
  },
  {
   "cell_type": "code",
   "execution_count": 12,
   "metadata": {
    "deletable": false
   },
   "outputs": [
    {
     "data": {
      "text/html": [
       "<style  type=\"text/css\" >\n",
       "</style><table id=\"T_587a095a_b00f_11ea_a251_acde48001122\" ><thead>    <tr>        <th class=\"blank level0\" ></th>        <th class=\"col_heading level0 col0\" >date</th>        <th class=\"col_heading level0 col1\" >construction_share</th>    </tr></thead><tbody>\n",
       "                <tr>\n",
       "                        <th id=\"T_587a095a_b00f_11ea_a251_acde48001122level0_row0\" class=\"row_heading level0 row0\" >189</th>\n",
       "                        <td id=\"T_587a095a_b00f_11ea_a251_acde48001122row0_col0\" class=\"data row0 col0\" >2000-10-01</td>\n",
       "                        <td id=\"T_587a095a_b00f_11ea_a251_acde48001122row0_col1\" class=\"data row0 col1\" >5.15%</td>\n",
       "            </tr>\n",
       "            <tr>\n",
       "                        <th id=\"T_587a095a_b00f_11ea_a251_acde48001122level0_row1\" class=\"row_heading level0 row1\" >201</th>\n",
       "                        <td id=\"T_587a095a_b00f_11ea_a251_acde48001122row1_col0\" class=\"data row1 col0\" >2001-10-01</td>\n",
       "                        <td id=\"T_587a095a_b00f_11ea_a251_acde48001122row1_col1\" class=\"data row1 col1\" >5.18%</td>\n",
       "            </tr>\n",
       "            <tr>\n",
       "                        <th id=\"T_587a095a_b00f_11ea_a251_acde48001122level0_row2\" class=\"row_heading level0 row2\" >213</th>\n",
       "                        <td id=\"T_587a095a_b00f_11ea_a251_acde48001122row2_col0\" class=\"data row2 col0\" >2002-10-01</td>\n",
       "                        <td id=\"T_587a095a_b00f_11ea_a251_acde48001122row2_col1\" class=\"data row2 col1\" >5.12%</td>\n",
       "            </tr>\n",
       "            <tr>\n",
       "                        <th id=\"T_587a095a_b00f_11ea_a251_acde48001122level0_row3\" class=\"row_heading level0 row3\" >225</th>\n",
       "                        <td id=\"T_587a095a_b00f_11ea_a251_acde48001122row3_col0\" class=\"data row3 col0\" >2003-10-01</td>\n",
       "                        <td id=\"T_587a095a_b00f_11ea_a251_acde48001122row3_col1\" class=\"data row3 col1\" >5.20%</td>\n",
       "            </tr>\n",
       "            <tr>\n",
       "                        <th id=\"T_587a095a_b00f_11ea_a251_acde48001122level0_row4\" class=\"row_heading level0 row4\" >237</th>\n",
       "                        <td id=\"T_587a095a_b00f_11ea_a251_acde48001122row4_col0\" class=\"data row4 col0\" >2004-10-01</td>\n",
       "                        <td id=\"T_587a095a_b00f_11ea_a251_acde48001122row4_col1\" class=\"data row4 col1\" >5.34%</td>\n",
       "            </tr>\n",
       "            <tr>\n",
       "                        <th id=\"T_587a095a_b00f_11ea_a251_acde48001122level0_row5\" class=\"row_heading level0 row5\" >249</th>\n",
       "                        <td id=\"T_587a095a_b00f_11ea_a251_acde48001122row5_col0\" class=\"data row5 col0\" >2005-10-01</td>\n",
       "                        <td id=\"T_587a095a_b00f_11ea_a251_acde48001122row5_col1\" class=\"data row5 col1\" >5.54%</td>\n",
       "            </tr>\n",
       "            <tr>\n",
       "                        <th id=\"T_587a095a_b00f_11ea_a251_acde48001122level0_row6\" class=\"row_heading level0 row6\" >261</th>\n",
       "                        <td id=\"T_587a095a_b00f_11ea_a251_acde48001122row6_col0\" class=\"data row6 col0\" >2006-10-01</td>\n",
       "                        <td id=\"T_587a095a_b00f_11ea_a251_acde48001122row6_col1\" class=\"data row6 col1\" >5.61%</td>\n",
       "            </tr>\n",
       "            <tr>\n",
       "                        <th id=\"T_587a095a_b00f_11ea_a251_acde48001122level0_row7\" class=\"row_heading level0 row7\" >273</th>\n",
       "                        <td id=\"T_587a095a_b00f_11ea_a251_acde48001122row7_col0\" class=\"data row7 col0\" >2007-10-01</td>\n",
       "                        <td id=\"T_587a095a_b00f_11ea_a251_acde48001122row7_col1\" class=\"data row7 col1\" >5.47%</td>\n",
       "            </tr>\n",
       "            <tr>\n",
       "                        <th id=\"T_587a095a_b00f_11ea_a251_acde48001122level0_row8\" class=\"row_heading level0 row8\" >285</th>\n",
       "                        <td id=\"T_587a095a_b00f_11ea_a251_acde48001122row8_col0\" class=\"data row8 col0\" >2008-10-01</td>\n",
       "                        <td id=\"T_587a095a_b00f_11ea_a251_acde48001122row8_col1\" class=\"data row8 col1\" >5.11%</td>\n",
       "            </tr>\n",
       "            <tr>\n",
       "                        <th id=\"T_587a095a_b00f_11ea_a251_acde48001122level0_row9\" class=\"row_heading level0 row9\" >297</th>\n",
       "                        <td id=\"T_587a095a_b00f_11ea_a251_acde48001122row9_col0\" class=\"data row9 col0\" >2009-10-01</td>\n",
       "                        <td id=\"T_587a095a_b00f_11ea_a251_acde48001122row9_col1\" class=\"data row9 col1\" >4.40%</td>\n",
       "            </tr>\n",
       "            <tr>\n",
       "                        <th id=\"T_587a095a_b00f_11ea_a251_acde48001122level0_row10\" class=\"row_heading level0 row10\" >309</th>\n",
       "                        <td id=\"T_587a095a_b00f_11ea_a251_acde48001122row10_col0\" class=\"data row10 col0\" >2010-10-01</td>\n",
       "                        <td id=\"T_587a095a_b00f_11ea_a251_acde48001122row10_col1\" class=\"data row10 col1\" >4.22%</td>\n",
       "            </tr>\n",
       "            <tr>\n",
       "                        <th id=\"T_587a095a_b00f_11ea_a251_acde48001122level0_row11\" class=\"row_heading level0 row11\" >321</th>\n",
       "                        <td id=\"T_587a095a_b00f_11ea_a251_acde48001122row11_col0\" class=\"data row11 col0\" >2011-10-01</td>\n",
       "                        <td id=\"T_587a095a_b00f_11ea_a251_acde48001122row11_col1\" class=\"data row11 col1\" >4.22%</td>\n",
       "            </tr>\n",
       "            <tr>\n",
       "                        <th id=\"T_587a095a_b00f_11ea_a251_acde48001122level0_row12\" class=\"row_heading level0 row12\" >333</th>\n",
       "                        <td id=\"T_587a095a_b00f_11ea_a251_acde48001122row12_col0\" class=\"data row12 col0\" >2012-10-01</td>\n",
       "                        <td id=\"T_587a095a_b00f_11ea_a251_acde48001122row12_col1\" class=\"data row12 col1\" >4.21%</td>\n",
       "            </tr>\n",
       "    </tbody></table>"
      ],
      "text/plain": [
       "<pandas.io.formats.style.Styler at 0x11ddae2d0>"
      ]
     },
     "execution_count": 12,
     "metadata": {},
     "output_type": "execute_result"
    }
   ],
   "source": [
    "pounding_nails_df = pd.read_csv('https://delong.typepad.com/files/2020-06-16-pounding-nails-in-nevada-3.csv')\n",
    "slice_df = pounding_nails_df[(pounding_nails_df['month'] == 10) & \n",
    "                 (pounding_nails_df['year'] > 1999)  &\n",
    "                 (pounding_nails_df['year'] < 2013)\n",
    "                 ]\n",
    "format_dict = { 'construction_share': '{0:,.2%}'}\n",
    "slice_df[['date','construction_share']].style.format(format_dict)"
   ]
  },
  {
   "cell_type": "markdown",
   "metadata": {
    "deletable": false
   },
   "source": [
    "In the small table above we can clearly see the housing boom of the mid-2000s and its unwinding: the share of American workers working in residential construction rises from 5.15% in the early 2000s up to 5.6% at the peak of the housing boom in 2006, and then declines. By October 2008 the share of American workers in construction was back to its pre-boom level, and around its long-term average.\n",
    "\n",
    "Before Cochrane stood up and said \"We should have a recession. People who spend their lives pounding nails in Nevada need something else to do\", the excess employment in construction—those people who would need to find something else to do in the long run—had already exited the sector. So why, then, did we need to have a recession? We didn't. Cochrane's argument was incoherent. And illiterate. The task of structural adjustment to the end of the housing boom had already been accomplished. And did not require a recession.\n",
    "\n",
    "So what was Cochrane's reaction when Paul Krugman called him out on his \"we should have a recession...pounding nails in Nevada\" claim?\n",
    "\n",
    "It was not very pretty <https://tinyurl.com/2020-06-16-k>:\n",
    "\n",
    ">The level of personal attack in the [Krugman] _New York Times_ article, and the fudging of the facts to achieve it, is simply amazing. As one little example, take my quotation about carpenters in Nevada.... I did not write this. It is an attribution, taken out of context, from a bloomberg.com article, written by a reporter [John Lippert] with whom I spent about 10 hours patiently trying to explain some basics, and who also turned out only to be on a hunt for embarrassing quotes. Nevertheless, I was trying to explain how sectoral shifts contribute to unemployment. I never asserted that ‘it takes mass unemployment across the whole nation to get carpenters to move out of Nevada’. You cannot even dredge up an out-of-context quote for that monstrously made-up opinion.\n",
    "\n",
    "Cochrane is correct. He did not write \"We should have a recession. People who spend their lives pounding nails in Nevada need something else to do\". But he is incorrect in leaving readers with the impression that it is an \"attribution\" from a patient discussion with Bloomberg reporter John Lippert.\n",
    "\n",
    "Cochrane made the \"we should have a recession... pounding nails in Nevada\" claim in the keynote speech he gave at the 2008 CRSP Forum <https://tinyurl.com/2020-06-16-l> at the Gleacher Center in downtown Chicago. He made the claim in front of several hundred people, each of whom the University of Chicago had charged 650 (350 for academics) to attend.\n",
    "\n",
    "And he said something very similar to what Lippert heard to the _New Yorker's_ John Cassidy <https://tinyurl.com/2020-06-16-m>:\n",
    "\n",
    ">When we discover we made too many houses in Nevada some people are going to have to move to different jobs, and it is going to take them a while of looking to find the right job for them. There will be some unemployment.... Some component of unemployment is people searching for better fits after shifts that have to happen.... Is ten per cent [unemployment right now] the right number? Now we are talking opinions.... But what we need is models, data, predictions... not my opinion versus your opinion...\n",
    "\n",
    "As I wrote to reporter John Lippert about Cochrane's paragraph explaining away his \"pounding nails in Nevada\": \"Something that’s a keynote speech at a conference that’s an important part of your school’s public intellectual/fundraising outreach effort hardly seems to be well-characterized as: 'I did not write this. It is an attribution, taken out of context, from an article, written by a reporter with whom I spent about 10 hours patiently trying to explain some basics, and who also turned out only to be on a hunt for embarrassing quotes…' I mean: why do this? Is the belief that nobody will check?\"\n",
    "\n",
    "John Lippert responded:\n",
    "\n",
    ">Thanks for your note. \n",
    "\n",
    ">Professor Cochrane's complaint is something of which I became aware... after Cochrane responded to something Paul Krugman had written.... Bloomberg did not respond to Cochrane's comments. He never sent them to us, despite my request that he do so. \n",
    "\n",
    ">When we became aware of his complaint, we saw no reason to make a correction."
   ]
  },
  {
   "cell_type": "markdown",
   "metadata": {
    "deletable": true
   },
   "source": [
    "Bloomberg's institutional view was and is: since we are happy with our story, there is no need for us on our own initiative to put forward any correction; and in the absence of a complaint, there is no need for us to expand on our story.\n",
    "\n",
    "And I think I am done here."
   ]
  },
  {
   "cell_type": "markdown",
   "metadata": {},
   "source": [
    "----\n",
    "\n",
    ">nbviewer: <https://nbviewer.jupyter.org/github/braddelong/weblog-support/blob/master/2020-06-16-pounding-nails-in-nevada.ipynb>    \n",
    ">github: <https://github.com/braddelong/weblog-support/blob/master/2020-06-16-pounding-nails-in-nevada.ipynb>"
   ]
  }
 ],
 "metadata": {
  "anaconda-cloud": {},
  "kernelspec": {
   "display_name": "Python 3",
   "language": "python",
   "name": "python3"
  },
  "language_info": {
   "codemirror_mode": {
    "name": "ipython",
    "version": 3
   },
   "file_extension": ".py",
   "mimetype": "text/x-python",
   "name": "python",
   "nbconvert_exporter": "python",
   "pygments_lexer": "ipython3",
   "version": "3.7.7"
  }
 },
 "nbformat": 4,
 "nbformat_minor": 4
}
